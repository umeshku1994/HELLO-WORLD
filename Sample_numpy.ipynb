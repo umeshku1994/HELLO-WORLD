{
  "nbformat": 4,
  "nbformat_minor": 0,
  "metadata": {
    "colab": {
      "provenance": [],
      "authorship_tag": "ABX9TyOLpG2zT4Jj74Lyc9feRQ1D",
      "include_colab_link": true
    },
    "kernelspec": {
      "name": "python3",
      "display_name": "Python 3"
    },
    "language_info": {
      "name": "python"
    }
  },
  "cells": [
    {
      "cell_type": "markdown",
      "metadata": {
        "id": "view-in-github",
        "colab_type": "text"
      },
      "source": [
        "<a href=\"https://colab.research.google.com/github/umeshku1994/HELLO-WORLD/blob/master/Sample_numpy.ipynb\" target=\"_parent\"><img src=\"https://colab.research.google.com/assets/colab-badge.svg\" alt=\"Open In Colab\"/></a>"
      ]
    },
    {
      "cell_type": "code",
      "execution_count": 2,
      "metadata": {
        "id": "oKkmBCYcQ58c"
      },
      "outputs": [],
      "source": [
        "import numpy as np"
      ]
    },
    {
      "cell_type": "code",
      "source": [
        "np.random.rand(5,5)"
      ],
      "metadata": {
        "id": "ttkhbW9kPI1y",
        "outputId": "0da2dda5-546c-45a0-b5de-15296a698f99",
        "colab": {
          "base_uri": "https://localhost:8080/"
        }
      },
      "execution_count": 3,
      "outputs": [
        {
          "output_type": "execute_result",
          "data": {
            "text/plain": [
              "array([[0.58791208, 0.55104991, 0.12273061, 0.52015921, 0.69473995],\n",
              "       [0.18661505, 0.08319826, 0.87156869, 0.61868732, 0.80061338],\n",
              "       [0.50265317, 0.64601599, 0.7450206 , 0.63087287, 0.49386208],\n",
              "       [0.62286803, 0.19915459, 0.10892445, 0.44502222, 0.94995111],\n",
              "       [0.02798135, 0.62541876, 0.64493609, 0.85902135, 0.1315596 ]])"
            ]
          },
          "metadata": {},
          "execution_count": 3
        }
      ]
    },
    {
      "cell_type": "code",
      "source": [
        "#gaussian distribution\n",
        "np.random.randn(5,5)"
      ],
      "metadata": {
        "id": "rpoYdxQXQC3g",
        "outputId": "82baf61c-a214-4eb8-d778-9ec3c23bf700",
        "colab": {
          "base_uri": "https://localhost:8080/"
        }
      },
      "execution_count": 5,
      "outputs": [
        {
          "output_type": "execute_result",
          "data": {
            "text/plain": [
              "array([[ 1.80234164,  1.08352647,  1.52035016,  0.64950212, -1.28160082],\n",
              "       [-1.3054045 , -0.91832549, -0.85402712,  0.7421728 ,  0.1182464 ],\n",
              "       [-0.12569688,  1.8129079 , -0.40403152,  0.10226653, -1.62725596],\n",
              "       [ 0.517216  , -0.9808218 , -1.12411655,  0.32252509,  2.50566007],\n",
              "       [ 0.66828154, -0.27849671,  0.96285165, -1.20086704, -0.96182591]])"
            ]
          },
          "metadata": {},
          "execution_count": 5
        }
      ]
    },
    {
      "cell_type": "code",
      "source": [],
      "metadata": {
        "id": "NTn4sHlgQM2G"
      },
      "execution_count": null,
      "outputs": []
    }
  ]
}