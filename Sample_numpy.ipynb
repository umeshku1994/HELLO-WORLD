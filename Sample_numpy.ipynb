{
  "nbformat": 4,
  "nbformat_minor": 0,
  "metadata": {
    "colab": {
      "provenance": [],
      "authorship_tag": "ABX9TyMWEtBZyvOeN43UgU7SDwE7",
      "include_colab_link": true
    },
    "kernelspec": {
      "name": "python3",
      "display_name": "Python 3"
    },
    "language_info": {
      "name": "python"
    }
  },
  "cells": [
    {
      "cell_type": "markdown",
      "metadata": {
        "id": "view-in-github",
        "colab_type": "text"
      },
      "source": [
        "<a href=\"https://colab.research.google.com/github/umeshku1994/HELLO-WORLD/blob/master/Sample_numpy.ipynb\" target=\"_parent\"><img src=\"https://colab.research.google.com/assets/colab-badge.svg\" alt=\"Open In Colab\"/></a>"
      ]
    },
    {
      "cell_type": "code",
      "execution_count": 2,
      "metadata": {
        "id": "oKkmBCYcQ58c"
      },
      "outputs": [],
      "source": [
        "import numpy as np"
      ]
    },
    {
      "cell_type": "code",
      "source": [
        "np.random.rand(5,5)"
      ],
      "metadata": {
        "colab": {
          "base_uri": "https://localhost:8080/"
        },
        "id": "ttkhbW9kPI1y",
        "outputId": "0da2dda5-546c-45a0-b5de-15296a698f99"
      },
      "execution_count": 3,
      "outputs": [
        {
          "output_type": "execute_result",
          "data": {
            "text/plain": [
              "array([[0.58791208, 0.55104991, 0.12273061, 0.52015921, 0.69473995],\n",
              "       [0.18661505, 0.08319826, 0.87156869, 0.61868732, 0.80061338],\n",
              "       [0.50265317, 0.64601599, 0.7450206 , 0.63087287, 0.49386208],\n",
              "       [0.62286803, 0.19915459, 0.10892445, 0.44502222, 0.94995111],\n",
              "       [0.02798135, 0.62541876, 0.64493609, 0.85902135, 0.1315596 ]])"
            ]
          },
          "metadata": {},
          "execution_count": 3
        }
      ]
    },
    {
      "cell_type": "code",
      "source": [
        "#gaussian distribution\n",
        "np.random.randn(5,5)"
      ],
      "metadata": {
        "colab": {
          "base_uri": "https://localhost:8080/"
        },
        "id": "rpoYdxQXQC3g",
        "outputId": "82baf61c-a214-4eb8-d778-9ec3c23bf700"
      },
      "execution_count": 5,
      "outputs": [
        {
          "output_type": "execute_result",
          "data": {
            "text/plain": [
              "array([[ 1.80234164,  1.08352647,  1.52035016,  0.64950212, -1.28160082],\n",
              "       [-1.3054045 , -0.91832549, -0.85402712,  0.7421728 ,  0.1182464 ],\n",
              "       [-0.12569688,  1.8129079 , -0.40403152,  0.10226653, -1.62725596],\n",
              "       [ 0.517216  , -0.9808218 , -1.12411655,  0.32252509,  2.50566007],\n",
              "       [ 0.66828154, -0.27849671,  0.96285165, -1.20086704, -0.96182591]])"
            ]
          },
          "metadata": {},
          "execution_count": 5
        }
      ]
    },
    {
      "cell_type": "code",
      "source": [
        "#generate random number between given numbers\n",
        "np.random.randint(0,100,10)"
      ],
      "metadata": {
        "colab": {
          "base_uri": "https://localhost:8080/"
        },
        "id": "NTn4sHlgQM2G",
        "outputId": "287c707c-3a21-452c-ec90-34a944398246"
      },
      "execution_count": 9,
      "outputs": [
        {
          "output_type": "execute_result",
          "data": {
            "text/plain": [
              "array([30, 32, 31, 74, 81, 61, 95, 44, 30, 61])"
            ]
          },
          "metadata": {},
          "execution_count": 9
        }
      ]
    },
    {
      "cell_type": "code",
      "source": [
        "arr=np.arange(25)\n",
        "arr"
      ],
      "metadata": {
        "id": "DS1rWiGCRZ03",
        "outputId": "0b9ce2cd-86be-4aa4-b566-2676bededcd7",
        "colab": {
          "base_uri": "https://localhost:8080/"
        }
      },
      "execution_count": 11,
      "outputs": [
        {
          "output_type": "execute_result",
          "data": {
            "text/plain": [
              "array([ 0,  1,  2,  3,  4,  5,  6,  7,  8,  9, 10, 11, 12, 13, 14, 15, 16,\n",
              "       17, 18, 19, 20, 21, 22, 23, 24])"
            ]
          },
          "metadata": {},
          "execution_count": 11
        }
      ]
    },
    {
      "cell_type": "code",
      "source": [
        "ranarr=np.random.randint(1,100,19)\n",
        "ranarr"
      ],
      "metadata": {
        "id": "Jv98p0NiSdoe",
        "outputId": "2da5d39c-d116-46e0-9da3-2ae98a25e629",
        "colab": {
          "base_uri": "https://localhost:8080/"
        }
      },
      "execution_count": 13,
      "outputs": [
        {
          "output_type": "execute_result",
          "data": {
            "text/plain": [
              "array([27, 29, 55,  5, 90, 20, 37, 14, 55, 47, 92,  8, 76, 94,  9, 22, 37,\n",
              "        1, 80])"
            ]
          },
          "metadata": {},
          "execution_count": 13
        }
      ]
    },
    {
      "cell_type": "code",
      "source": [
        "#reshape as new dimensions specified, 5*5 below\n",
        "reshaped_arr=arr.reshape(5,5)"
      ],
      "metadata": {
        "id": "g6LoRyuBSzlx"
      },
      "execution_count": 23,
      "outputs": []
    },
    {
      "cell_type": "code",
      "source": [
        "#max value from array\n",
        "ranarr.max()"
      ],
      "metadata": {
        "id": "iTVNtVnzTox5",
        "outputId": "023d6ff2-b4b1-4e1e-bad4-db60dfaeedf0",
        "colab": {
          "base_uri": "https://localhost:8080/"
        }
      },
      "execution_count": 18,
      "outputs": [
        {
          "output_type": "execute_result",
          "data": {
            "text/plain": [
              "94"
            ]
          },
          "metadata": {},
          "execution_count": 18
        }
      ]
    },
    {
      "cell_type": "code",
      "source": [
        "#index of max value\n",
        "ranarr.argmax()"
      ],
      "metadata": {
        "id": "m4mcBbjoT2U7",
        "outputId": "e4bc5dd1-8f1d-43fd-8ea7-e86c5aa017f8",
        "colab": {
          "base_uri": "https://localhost:8080/"
        }
      },
      "execution_count": 19,
      "outputs": [
        {
          "output_type": "execute_result",
          "data": {
            "text/plain": [
              "13"
            ]
          },
          "metadata": {},
          "execution_count": 19
        }
      ]
    },
    {
      "cell_type": "code",
      "source": [
        "ranarr.argmin()"
      ],
      "metadata": {
        "id": "qwcVLAFiUAIh",
        "outputId": "3e5592de-2e46-4fe4-c2d1-374d993ecfd8",
        "colab": {
          "base_uri": "https://localhost:8080/"
        }
      },
      "execution_count": 20,
      "outputs": [
        {
          "output_type": "execute_result",
          "data": {
            "text/plain": [
              "17"
            ]
          },
          "metadata": {},
          "execution_count": 20
        }
      ]
    },
    {
      "cell_type": "code",
      "source": [
        "arr.shape"
      ],
      "metadata": {
        "id": "5Ox-CTxxUDUz",
        "outputId": "814a7a2d-7024-41ec-f313-be149a17b5ca",
        "colab": {
          "base_uri": "https://localhost:8080/"
        }
      },
      "execution_count": 22,
      "outputs": [
        {
          "output_type": "execute_result",
          "data": {
            "text/plain": [
              "(25,)"
            ]
          },
          "metadata": {},
          "execution_count": 22
        }
      ]
    },
    {
      "cell_type": "code",
      "source": [
        "reshaped_arr"
      ],
      "metadata": {
        "id": "fv0NunQkUQmj",
        "outputId": "d256b820-31ec-41db-e78a-5c21771ab41c",
        "colab": {
          "base_uri": "https://localhost:8080/"
        }
      },
      "execution_count": 24,
      "outputs": [
        {
          "output_type": "execute_result",
          "data": {
            "text/plain": [
              "array([[ 0,  1,  2,  3,  4],\n",
              "       [ 5,  6,  7,  8,  9],\n",
              "       [10, 11, 12, 13, 14],\n",
              "       [15, 16, 17, 18, 19],\n",
              "       [20, 21, 22, 23, 24]])"
            ]
          },
          "metadata": {},
          "execution_count": 24
        }
      ]
    },
    {
      "cell_type": "code",
      "source": [
        "#datatype of array\n",
        "arr.dtype"
      ],
      "metadata": {
        "id": "XKsGifBWUlIb",
        "outputId": "e5836720-38f9-4542-f88c-9cfe4ef9d0e5",
        "colab": {
          "base_uri": "https://localhost:8080/"
        }
      },
      "execution_count": 25,
      "outputs": [
        {
          "output_type": "execute_result",
          "data": {
            "text/plain": [
              "dtype('int64')"
            ]
          },
          "metadata": {},
          "execution_count": 25
        }
      ]
    },
    {
      "cell_type": "code",
      "source": [
        "from numpy.random import randint\n",
        "randint(2,10)"
      ],
      "metadata": {
        "id": "tZElLD6xYDTz",
        "outputId": "f2a5d7c0-97a0-4c20-b0c2-ae63aac4f09b",
        "colab": {
          "base_uri": "https://localhost:8080/"
        }
      },
      "execution_count": 30,
      "outputs": [
        {
          "output_type": "execute_result",
          "data": {
            "text/plain": [
              "6"
            ]
          },
          "metadata": {},
          "execution_count": 30
        }
      ]
    },
    {
      "cell_type": "code",
      "source": [
        "arr=np.arange(1,10)\n",
        "arr"
      ],
      "metadata": {
        "id": "jcwbKlvMZr6a",
        "outputId": "0fe222af-d66b-4c74-eccd-476cefb29e05",
        "colab": {
          "base_uri": "https://localhost:8080/"
        }
      },
      "execution_count": 32,
      "outputs": [
        {
          "output_type": "execute_result",
          "data": {
            "text/plain": [
              "array([1, 2, 3, 4, 5, 6, 7, 8, 9])"
            ]
          },
          "metadata": {},
          "execution_count": 32
        }
      ]
    },
    {
      "cell_type": "code",
      "source": [
        "arr[0:4]"
      ],
      "metadata": {
        "id": "z1tWtKFjaFlj",
        "outputId": "ec4c557d-7d16-4938-f864-2e3daa22c2d6",
        "colab": {
          "base_uri": "https://localhost:8080/"
        }
      },
      "execution_count": 34,
      "outputs": [
        {
          "output_type": "execute_result",
          "data": {
            "text/plain": [
              "array([1, 2, 3, 4])"
            ]
          },
          "metadata": {},
          "execution_count": 34
        }
      ]
    },
    {
      "cell_type": "code",
      "source": [
        "arr[1:5]"
      ],
      "metadata": {
        "id": "r_df6kYTaJ0Z",
        "outputId": "f4640172-b2b8-4680-ccbe-d3ceb6f200ba",
        "colab": {
          "base_uri": "https://localhost:8080/"
        }
      },
      "execution_count": 35,
      "outputs": [
        {
          "output_type": "execute_result",
          "data": {
            "text/plain": [
              "array([2, 3, 4, 5])"
            ]
          },
          "metadata": {},
          "execution_count": 35
        }
      ]
    },
    {
      "cell_type": "code",
      "source": [
        "arr[5:]"
      ],
      "metadata": {
        "id": "v59Kf00eaN_Z",
        "outputId": "f3815ad8-9574-408e-94d8-99440705a61a",
        "colab": {
          "base_uri": "https://localhost:8080/"
        }
      },
      "execution_count": 36,
      "outputs": [
        {
          "output_type": "execute_result",
          "data": {
            "text/plain": [
              "array([6, 7, 8, 9])"
            ]
          },
          "metadata": {},
          "execution_count": 36
        }
      ]
    },
    {
      "cell_type": "code",
      "source": [
        "arr[:5]"
      ],
      "metadata": {
        "id": "D1jF2HjXaXJJ",
        "outputId": "04aacde2-e28e-4bac-ad2b-c12bfa0ae132",
        "colab": {
          "base_uri": "https://localhost:8080/"
        }
      },
      "execution_count": 37,
      "outputs": [
        {
          "output_type": "execute_result",
          "data": {
            "text/plain": [
              "array([1, 2, 3, 4, 5])"
            ]
          },
          "metadata": {},
          "execution_count": 37
        }
      ]
    },
    {
      "cell_type": "code",
      "source": [
        "slice_of_arr=arr[0:6]\n",
        "slice_of_arr"
      ],
      "metadata": {
        "id": "KsmsL8GwaZby",
        "outputId": "28be0706-b48d-4854-8fb0-f7cf1137c377",
        "colab": {
          "base_uri": "https://localhost:8080/"
        }
      },
      "execution_count": 47,
      "outputs": [
        {
          "output_type": "execute_result",
          "data": {
            "text/plain": [
              "array([99, 99, 99, 99, 99, 99])"
            ]
          },
          "metadata": {},
          "execution_count": 47
        }
      ]
    },
    {
      "cell_type": "code",
      "source": [
        "#broadcasting the array\n",
        "slice_of_arr[:]=99\n",
        "slice_of_arr"
      ],
      "metadata": {
        "id": "oNWtj9rQbkDm",
        "outputId": "02a979f0-42de-42e5-921e-9bd5a3d9a05e",
        "colab": {
          "base_uri": "https://localhost:8080/"
        }
      },
      "execution_count": 48,
      "outputs": [
        {
          "output_type": "execute_result",
          "data": {
            "text/plain": [
              "array([99, 99, 99, 99, 99, 99])"
            ]
          },
          "metadata": {},
          "execution_count": 48
        }
      ]
    },
    {
      "cell_type": "code",
      "source": [
        "arr"
      ],
      "metadata": {
        "id": "v6SoDkdBb1Nx",
        "outputId": "75f7f656-8e25-43ea-da91-2d8428a04d7e",
        "colab": {
          "base_uri": "https://localhost:8080/"
        }
      },
      "execution_count": 49,
      "outputs": [
        {
          "output_type": "execute_result",
          "data": {
            "text/plain": [
              "array([99, 99, 99, 99, 99, 99,  7,  8,  9])"
            ]
          },
          "metadata": {},
          "execution_count": 49
        }
      ]
    },
    {
      "cell_type": "code",
      "source": [
        "#slice_of_arr is not copying the array. But having reference to the original array. In order to create\n",
        "#copy of the array without referencing we use arr.copy() command."
      ],
      "metadata": {
        "id": "zA8qtDGPb8um"
      },
      "execution_count": null,
      "outputs": []
    }
  ]
}